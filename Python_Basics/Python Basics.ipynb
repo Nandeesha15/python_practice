{
 "cells": [
  {
   "cell_type": "markdown",
   "id": "19b1ea7c-4913-43c9-8bba-84a6059658eb",
   "metadata": {},
   "source": [
    "# 0. Variables"
   ]
  },
  {
   "cell_type": "code",
   "execution_count": 1,
   "id": "75ce3d87-944f-42e2-8bcb-51e92cf23625",
   "metadata": {},
   "outputs": [],
   "source": [
    "space_name = 'Nandish'"
   ]
  },
  {
   "cell_type": "code",
   "execution_count": 3,
   "id": "01e9aa48-e286-41e9-8109-02e82bd89ccf",
   "metadata": {},
   "outputs": [
    {
     "name": "stdout",
     "output_type": "stream",
     "text": [
      "Nandish\n"
     ]
    }
   ],
   "source": [
    "print(space_name)"
   ]
  },
  {
   "cell_type": "code",
   "execution_count": 4,
   "id": "aeed13e4-62f4-4109-9de5-a8a66a32263c",
   "metadata": {},
   "outputs": [
    {
     "data": {
      "text/plain": [
       "str"
      ]
     },
     "execution_count": 4,
     "metadata": {},
     "output_type": "execute_result"
    }
   ],
   "source": [
    "type(space_name)"
   ]
  },
  {
   "cell_type": "code",
   "execution_count": null,
   "id": "6077f52b-3e6b-4155-bcbf-303f45f31fff",
   "metadata": {},
   "outputs": [],
   "source": []
  }
 ],
 "metadata": {
  "kernelspec": {
   "display_name": "Python 3 (ipykernel)",
   "language": "python",
   "name": "python3"
  },
  "language_info": {
   "codemirror_mode": {
    "name": "ipython",
    "version": 3
   },
   "file_extension": ".py",
   "mimetype": "text/x-python",
   "name": "python",
   "nbconvert_exporter": "python",
   "pygments_lexer": "ipython3",
   "version": "3.13.2"
  }
 },
 "nbformat": 4,
 "nbformat_minor": 5
}
